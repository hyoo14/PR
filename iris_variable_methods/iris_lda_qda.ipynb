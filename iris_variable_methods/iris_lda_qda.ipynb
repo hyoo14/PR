{
 "cells": [
  {
   "cell_type": "code",
   "execution_count": 29,
   "metadata": {
    "collapsed": true
   },
   "outputs": [],
   "source": [
    "import numpy as np\n",
    "import pylab as pl\n",
    "import matplotlib as mpl\n",
    "\n",
    "import sklearn\n"
   ]
  },
  {
   "cell_type": "code",
   "execution_count": 30,
   "metadata": {
    "collapsed": true
   },
   "outputs": [],
   "source": [
    "from scipy import linalg\n",
    "import sklearn.discriminant_analysis"
   ]
  },
  {
   "cell_type": "code",
   "execution_count": 31,
   "metadata": {
    "collapsed": true
   },
   "outputs": [],
   "source": [
    "from sklearn.discriminant_analysis import LinearDiscriminantAnalysis as LDA\n",
    "from sklearn.discriminant_analysis import QuadraticDiscriminantAnalysis as QDA"
   ]
  },
  {
   "cell_type": "code",
   "execution_count": 32,
   "metadata": {
    "collapsed": true
   },
   "outputs": [],
   "source": [
    "# load sample dataset\n",
    "from sklearn.datasets import load_iris\n"
   ]
  },
  {
   "cell_type": "code",
   "execution_count": null,
   "metadata": {
    "collapsed": true
   },
   "outputs": [],
   "source": []
  },
  {
   "cell_type": "code",
   "execution_count": 33,
   "metadata": {
    "collapsed": true
   },
   "outputs": [],
   "source": [
    "iris = load_iris()\n",
    "X = iris.data[:,:2] # Take only 2 dimensions\n",
    "y = iris.target\n",
    "X = X[y > 0]\n",
    "y = y[y > 0]\n",
    "y -= 1\n",
    "target_names = iris.target_names[1:]"
   ]
  },
  {
   "cell_type": "code",
   "execution_count": 34,
   "metadata": {},
   "outputs": [
    {
     "name": "stdout",
     "output_type": "stream",
     "text": [
      "[[ 7.   3.2]\n",
      " [ 6.4  3.2]\n",
      " [ 6.9  3.1]\n",
      " [ 5.5  2.3]\n",
      " [ 6.5  2.8]\n",
      " [ 5.7  2.8]\n",
      " [ 6.3  3.3]\n",
      " [ 4.9  2.4]\n",
      " [ 6.6  2.9]\n",
      " [ 5.2  2.7]\n",
      " [ 5.   2. ]\n",
      " [ 5.9  3. ]\n",
      " [ 6.   2.2]\n",
      " [ 6.1  2.9]\n",
      " [ 5.6  2.9]\n",
      " [ 6.7  3.1]\n",
      " [ 5.6  3. ]\n",
      " [ 5.8  2.7]\n",
      " [ 6.2  2.2]\n",
      " [ 5.6  2.5]\n",
      " [ 5.9  3.2]\n",
      " [ 6.1  2.8]\n",
      " [ 6.3  2.5]\n",
      " [ 6.1  2.8]\n",
      " [ 6.4  2.9]\n",
      " [ 6.6  3. ]\n",
      " [ 6.8  2.8]\n",
      " [ 6.7  3. ]\n",
      " [ 6.   2.9]\n",
      " [ 5.7  2.6]\n",
      " [ 5.5  2.4]\n",
      " [ 5.5  2.4]\n",
      " [ 5.8  2.7]\n",
      " [ 6.   2.7]\n",
      " [ 5.4  3. ]\n",
      " [ 6.   3.4]\n",
      " [ 6.7  3.1]\n",
      " [ 6.3  2.3]\n",
      " [ 5.6  3. ]\n",
      " [ 5.5  2.5]\n",
      " [ 5.5  2.6]\n",
      " [ 6.1  3. ]\n",
      " [ 5.8  2.6]\n",
      " [ 5.   2.3]\n",
      " [ 5.6  2.7]\n",
      " [ 5.7  3. ]\n",
      " [ 5.7  2.9]\n",
      " [ 6.2  2.9]\n",
      " [ 5.1  2.5]\n",
      " [ 5.7  2.8]\n",
      " [ 6.3  3.3]\n",
      " [ 5.8  2.7]\n",
      " [ 7.1  3. ]\n",
      " [ 6.3  2.9]\n",
      " [ 6.5  3. ]\n",
      " [ 7.6  3. ]\n",
      " [ 4.9  2.5]\n",
      " [ 7.3  2.9]\n",
      " [ 6.7  2.5]\n",
      " [ 7.2  3.6]\n",
      " [ 6.5  3.2]\n",
      " [ 6.4  2.7]\n",
      " [ 6.8  3. ]\n",
      " [ 5.7  2.5]\n",
      " [ 5.8  2.8]\n",
      " [ 6.4  3.2]\n",
      " [ 6.5  3. ]\n",
      " [ 7.7  3.8]\n",
      " [ 7.7  2.6]\n",
      " [ 6.   2.2]\n",
      " [ 6.9  3.2]\n",
      " [ 5.6  2.8]\n",
      " [ 7.7  2.8]\n",
      " [ 6.3  2.7]\n",
      " [ 6.7  3.3]\n",
      " [ 7.2  3.2]\n",
      " [ 6.2  2.8]\n",
      " [ 6.1  3. ]\n",
      " [ 6.4  2.8]\n",
      " [ 7.2  3. ]\n",
      " [ 7.4  2.8]\n",
      " [ 7.9  3.8]\n",
      " [ 6.4  2.8]\n",
      " [ 6.3  2.8]\n",
      " [ 6.1  2.6]\n",
      " [ 7.7  3. ]\n",
      " [ 6.3  3.4]\n",
      " [ 6.4  3.1]\n",
      " [ 6.   3. ]\n",
      " [ 6.9  3.1]\n",
      " [ 6.7  3.1]\n",
      " [ 6.9  3.1]\n",
      " [ 5.8  2.7]\n",
      " [ 6.8  3.2]\n",
      " [ 6.7  3.3]\n",
      " [ 6.7  3. ]\n",
      " [ 6.3  2.5]\n",
      " [ 6.5  3. ]\n",
      " [ 6.2  3.4]\n",
      " [ 5.9  3. ]]\n"
     ]
    }
   ],
   "source": [
    "print(X)"
   ]
  },
  {
   "cell_type": "code",
   "execution_count": 37,
   "metadata": {},
   "outputs": [
    {
     "name": "stdout",
     "output_type": "stream",
     "text": [
      "0\n"
     ]
    }
   ],
   "source": [
    "print(y[1])"
   ]
  },
  {
   "cell_type": "code",
   "execution_count": null,
   "metadata": {
    "collapsed": true
   },
   "outputs": [],
   "source": []
  },
  {
   "cell_type": "code",
   "execution_count": null,
   "metadata": {
    "collapsed": true
   },
   "outputs": [],
   "source": []
  },
  {
   "cell_type": "code",
   "execution_count": 24,
   "metadata": {},
   "outputs": [
    {
     "name": "stderr",
     "output_type": "stream",
     "text": [
      "C:\\Users\\Spectre\\Anaconda3\\lib\\site-packages\\sklearn\\discriminant_analysis.py:664: DeprecationWarning: 'store_covariances' was renamed to store_covariance in version 0.19 and will be removed in 0.21.\n",
      "  DeprecationWarning)\n",
      "C:\\Users\\Spectre\\Anaconda3\\lib\\site-packages\\sklearn\\utils\\deprecation.py:77: DeprecationWarning: Function covariances_ is deprecated; Attribute covariances_ was deprecated in version 0.19 and will be removed in 0.21. Use covariance_ instead\n",
      "  warnings.warn(msg, category=DeprecationWarning)\n",
      "C:\\Users\\Spectre\\Anaconda3\\lib\\site-packages\\sklearn\\utils\\deprecation.py:77: DeprecationWarning: Function covariances_ is deprecated; Attribute covariances_ was deprecated in version 0.19 and will be removed in 0.21. Use covariance_ instead\n",
      "  warnings.warn(msg, category=DeprecationWarning)\n"
     ]
    },
    {
     "data": {
      "image/png": "[encoded data removed]",
      "text/plain": [
       "<matplotlib.figure.Figure at 0x2a49db2ddd8>"
      ]
     },
     "metadata": {},
     "output_type": "display_data"
    }
   ],
   "source": [
    "\n",
    "\n",
    "\n",
    "\n",
    "################################################################################\n",
    "# LDA\n",
    "lda = LDA(store_covariance=True)\n",
    "y_pred = lda.fit(X, y).predict(X)\n",
    "\n",
    "# QDA\n",
    "qda = QDA(store_covariances=True)\n",
    "y_pred = qda.fit(X, y).predict(X)\n",
    "\n",
    "###############################################################################\n",
    "# Plot results\n",
    "\n",
    "def plot_ellipse(splot, mean, cov, color):\n",
    "    v, w = linalg.eigh(cov)\n",
    "    u = w[0] / linalg.norm(w[0])\n",
    "    angle = np.arctan(u[1]/u[0])\n",
    "    angle = 180 * angle / np.pi # convert to degrees\n",
    "    # filled gaussian at 2 standard deviation\n",
    "    ell = mpl.patches.Ellipse(mean, 2 * v[0] ** 0.5, 2 * v[1] ** 0.5,\n",
    "                                            180 + angle, color=color)\n",
    "    ell.set_clip_box(splot.bbox)\n",
    "    ell.set_alpha(0.5)\n",
    "    splot.add_artist(ell)\n",
    "\n",
    "xx, yy = np.meshgrid(np.linspace(4, 8.5, 200), np.linspace(1.5, 4.5, 200))\n",
    "X_grid = np.c_[xx.ravel(), yy.ravel()]\n",
    "zz_lda = lda.predict_proba(X_grid)[:,1].reshape(xx.shape)\n",
    "zz_qda = qda.predict_proba(X_grid)[:,1].reshape(xx.shape)\n",
    "\n",
    "pl.figure()\n",
    "splot = pl.subplot(1, 2, 1)\n",
    "pl.contourf(xx, yy, zz_lda > 0.5, alpha=0.5)\n",
    "pl.scatter(X[y==0,0], X[y==0,1], c='b', label=target_names[0])\n",
    "pl.scatter(X[y==1,0], X[y==1,1], c='r', label=target_names[1])\n",
    "pl.contour(xx, yy, zz_lda, [0.5], linewidths=2., colors='k')\n",
    "plot_ellipse(splot, lda.means_[0], lda.covariance_, 'b')\n",
    "plot_ellipse(splot, lda.means_[1], lda.covariance_, 'r')\n",
    "pl.legend()\n",
    "pl.axis('tight')\n",
    "pl.title('Linear Discriminant Analysis')\n",
    "\n",
    "splot = pl.subplot(1, 2, 2)\n",
    "pl.contourf(xx, yy, zz_qda > 0.5, alpha=0.5)\n",
    "pl.scatter(X[y==0,0], X[y==0,1], c='b', label=target_names[0])\n",
    "pl.scatter(X[y==1,0], X[y==1,1], c='r', label=target_names[1])\n",
    "pl.contour(xx, yy, zz_qda, [0.5], linewidths=2., colors='k')\n",
    "plot_ellipse(splot, qda.means_[0], qda.covariances_[0], 'b')\n",
    "plot_ellipse(splot, qda.means_[1], qda.covariances_[1], 'r')\n",
    "pl.legend()\n",
    "pl.axis('tight')\n",
    "pl.title('Quadratic Discriminant Analysis')\n",
    "pl.show()"
   ]
  },
  {
   "cell_type": "code",
   "execution_count": null,
   "metadata": {
    "collapsed": true
   },
   "outputs": [],
   "source": []
  }
 ],
 "metadata": {
  "kernelspec": {
   "display_name": "Python 3",
   "language": "python",
   "name": "python3"
  },
  "language_info": {
   "codemirror_mode": {
    "name": "ipython",
    "version": 3
   },
   "file_extension": ".py",
   "mimetype": "text/x-python",
   "name": "python",
   "nbconvert_exporter": "python",
   "pygments_lexer": "ipython3",
   "version": "3.6.1"
  }
 },
 "nbformat": 4,
 "nbformat_minor": 2
}

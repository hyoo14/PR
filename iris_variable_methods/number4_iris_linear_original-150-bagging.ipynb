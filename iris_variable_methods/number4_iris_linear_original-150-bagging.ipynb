{
 "cells": [
  {
   "cell_type": "code",
   "execution_count": 1,
   "metadata": {
    "collapsed": true
   },
   "outputs": [],
   "source": [
    "from __future__ import division\n",
    "import numpy as np\n",
    "import matplotlib.pyplot as plt\n",
    "import math\n",
    "import random"
   ]
  },
  {
   "cell_type": "code",
   "execution_count": 2,
   "metadata": {
    "collapsed": true
   },
   "outputs": [],
   "source": [
    "def read_data():\n",
    "    f=open(\"iris(150).csv\", 'r')\n",
    "    lines=[line.strip() for line in f.readlines()]\n",
    "    f.close()\n",
    "    \n",
    "    lines=[line.split(\",\") for line in lines if line]\n",
    "    #print('cool guy', lines)\n",
    "    lines = lines[1:]\n",
    "    #print(lines)\n",
    "    #print([line[:6] for line in lines if line])\n",
    "    \n",
    "        \n",
    "    data=np.array([line[1:5] for line in lines if line], dtype=np.float)\n",
    "    \n",
    "    class1=np.array([line[1:5] for line in lines if line[-1]==\"setosa\"], dtype=np.float)\n",
    "    \n",
    "    class2=np.array([line[1:5] for line in lines if line[-1]==\"virginica\"], dtype=np.float)\n",
    "    \n",
    "    class3=np.array([line[1:5] for line in lines if line[-1]==\"versicolor\"], dtype=np.float)\n",
    "    \n",
    "    #list of class labels\n",
    "    labels=[]\n",
    "    for line in lines:\n",
    "        #print(line)\n",
    "        strt=line.pop()\n",
    "        #print(strt)\n",
    "        labels.append(strt)\n",
    "    \n",
    "    #print(labels)\n",
    "    #create array of labels\n",
    "    labels=[line.split(\",\") for line in labels if line]\n",
    "    t=np.zeros(shape=(150, 3))\n",
    "    #create target vector encoded according to 1-of-K scheme\n",
    "    for i in range(len(data)):\n",
    "        if labels[i]==[\"setosa\"]: \n",
    "            t[i][0]=1\n",
    "        elif labels[i]==[\"versicolor\"]: \n",
    "            t[i][1]=1\n",
    "        elif labels[i]==[\"virginica\"]: \n",
    "            t[i][2]=1\n",
    "    \n",
    "    return class1, class2, class3, data, t\n"
   ]
  },
  {
   "cell_type": "code",
   "execution_count": 3,
   "metadata": {
    "collapsed": true
   },
   "outputs": [],
   "source": [
    "def gaussian(x, mean, cov):\n",
    "    xm=np.reshape((x-mean), (-1, 1))\n",
    "    px=1/(math.pow(2.0*math.pi, 2))*1/math.sqrt(np.linalg.det(cov))*math.exp(-(np.dot(np.dot(xm.T, np.linalg.inv(cov)), xm))/2)\n",
    "    return px"
   ]
  },
  {
   "cell_type": "code",
   "execution_count": 39,
   "metadata": {},
   "outputs": [
    {
     "name": "stdout",
     "output_type": "stream",
     "text": [
      "17.634746606133234   1.00835849475   -1.08403563951\n",
      "0.551982958188397   -0.0234306445426   0.0483684024837\n",
      "0.5003642519291877   1.81218503806   0.0817990839016\n",
      "0.5426705714771964   0.318734313625   -0.42968130277\n",
      "18.43512387196743   -0.596328815382   -0.320714276742\n",
      "0.9079412189599328   0.233683914832   0.0816765475137\n",
      "0.6704872273443723   1.67573983398   -1.47924690625\n",
      "0.723949928844012   1.86698081131   0.486531048612\n",
      "2.0354138346141486   1.55561770924   0.208158556976\n",
      "199.0287603618886   0.156682488872   0.0327162261872\n",
      "11.095058342256719   1.10732492145   0.943061615156\n",
      "0.5000010461013221   0.380259308125   0.338642860381\n",
      "1.5935921410829825   -0.314159590403   -0.796197968351\n",
      "0.5006242524116264   0.486730582809   0.0162989032123\n",
      "0.5282877886710837   1.2347490033   -0.672881388483\n",
      "0.7505826421359563   -0.693627872219   1.26226732394\n",
      "0.7235656987257162   0.722496099702   1.22645432326\n",
      "22.467134110623803   -1.81990936804   0.821797209285\n",
      "10.820197641050617   1.0144372373   1.40130505351\n",
      "110.46293371979772   1.55384107951   0.661403797685\n",
      "number of misclassifications [ 6.]\n"
     ]
    }
   ],
   "source": [
    "def main():\n",
    "    class1, class2, class3, data, t=read_data()\n",
    "    \n",
    "    \n",
    "    count=np.zeros(shape=(150,1))\n",
    "    t_assigned=np.zeros(shape=(150, 3))\n",
    "    cov=np.zeros(shape=(3, 4, 4))\n",
    "    mean=np.zeros(shape=(3, 4))\n",
    "    \n",
    "    \"\"\"a = list(zip(class1, class2, class3, data, t))\n",
    "    random.shuffle(a)\n",
    "    class1, class2, class3, data, t = zip(*a)\n",
    "    \n",
    "    \n",
    "    class1 = np.asarray(class1)\n",
    "    class2 = np.asarray(class2)\n",
    "    class3 = np.asarray(class3)\n",
    "    \n",
    "    data = np.asarray(data)\n",
    "    t = np.asarray(t)\"\"\"\n",
    "    \n",
    "    class1 = class1[:30]\n",
    "    class2 = class2[:30]\n",
    "    class3 = class3[:30]\n",
    "    \n",
    "    #print(class1)\n",
    "    \n",
    "    \n",
    "    #compute means for each class\n",
    "    mean1=class1.mean(axis=0)\n",
    "    mean2=class2.mean(axis=0)\n",
    "    mean3=class3.mean(axis=0)\n",
    "    \n",
    "        \n",
    "    \n",
    "    \n",
    "    #print(mean1,' ',mean2, ' ', mean3)\n",
    "    \n",
    "    #compute covariance matrices, such that the columns are variables and rows are observations of variables\n",
    "    cov1=np.cov(class1, rowvar=0)\n",
    "    cov2=np.cov(class2, rowvar=0)\n",
    "    cov3=np.cov(class3, rowvar=0)\n",
    "    \n",
    "    \n",
    "    \n",
    "    #print(cov1,' ',cov2, ' ',cov3)\n",
    "    \n",
    "    #compute gaussian likelihood functions p(x|Ck) for each class\n",
    "    for i in range(30, 50):\n",
    "        px1=(1/3.0)*gaussian(data[i], mean1, cov1)\n",
    "        px2=(1/3.0)*gaussian(data[i], mean2, cov2)\n",
    "        px3=(1/3.0)*gaussian(data[i], mean3, cov3)\n",
    "        m=np.max([px1, px2, px3])\n",
    "    #compute posterior probability p(Ck|x) assuming that p(x|Ck) is gaussian and the entire expression is wrapped by sigmoid function \n",
    "        pc1=((math.exp(px1)*math.exp(-m))*math.exp(m))/((math.exp(px2)*math.exp(-m)+math.exp(px3)*math.exp(-m))*math.exp(m))\n",
    "        pc2=((math.exp(px2)*math.exp(-m))*math.exp(m))/((math.exp(px1)*math.exp(-m)+math.exp(px3)*math.exp(-m))*math.exp(m))\n",
    "        pc3=((math.exp(px3)*math.exp(-m))*math.exp(m))/((math.exp(px1)*math.exp(-m)+math.exp(px2)*math.exp(-m))*math.exp(m))\n",
    "        \n",
    "        pc2 = np.random.normal(size = [1, 1])[0][0]\n",
    "        pc3 = np.random.normal(size = [1, 1])[0][0]\n",
    "        \n",
    "        \n",
    "        \n",
    "        print(pc1,' ',pc2,' ', pc3)\n",
    "        #assign p(Ck|x)=1 if p(Ck|x)>>p(Cj|x) for all j!=k\n",
    "        if pc1>pc2 and pc1>pc3: t_assigned[i][0]=1\n",
    "        elif pc3>pc1 and pc3>pc2: t_assigned[i][1]=1\n",
    "        elif pc2>pc1 and pc2>pc3: t_assigned[i][2]=1\n",
    "    #count the number of misclassifications\n",
    "        for j in range(3):\n",
    "            if t[i][j]-t_assigned[i][j]!=0: count[i]=1\n",
    "\n",
    "    cov=[cov1, cov2, cov3]\n",
    "    mean=[mean1, mean2, mean3]\n",
    "\n",
    "    t1=np.zeros(shape=(len(class1), 1))\n",
    "    t2=np.zeros(shape=(len(class2), 1))\n",
    "    t3=np.zeros(shape=(len(class3), 1))\n",
    "    for i in range(len(data)):\n",
    "        for j in range(len(class1)):\n",
    "            if t_assigned[i][0]==1: t1[j]=1\n",
    "            elif t_assigned[i][1]==1: t2[j]=2\n",
    "            elif t_assigned[i][2]==1: t3[j]=3\n",
    "\n",
    "\n",
    "    print (\"number of misclassifications\", sum(count) )#, \"assigned labels to data points\", t_assigned, \"target data\", t)\n",
    "    \n",
    "main()"
   ]
  },
  {
   "cell_type": "code",
   "execution_count": null,
   "metadata": {
    "collapsed": true
   },
   "outputs": [],
   "source": []
  },
  {
   "cell_type": "code",
   "execution_count": null,
   "metadata": {
    "collapsed": true
   },
   "outputs": [],
   "source": []
  }
 ],
 "metadata": {
  "kernelspec": {
   "display_name": "Python 3",
   "language": "python",
   "name": "python3"
  },
  "language_info": {
   "codemirror_mode": {
    "name": "ipython",
    "version": 3
   },
   "file_extension": ".py",
   "mimetype": "text/x-python",
   "name": "python",
   "nbconvert_exporter": "python",
   "pygments_lexer": "ipython3",
   "version": "3.6.1"
  }
 },
 "nbformat": 4,
 "nbformat_minor": 2
}
